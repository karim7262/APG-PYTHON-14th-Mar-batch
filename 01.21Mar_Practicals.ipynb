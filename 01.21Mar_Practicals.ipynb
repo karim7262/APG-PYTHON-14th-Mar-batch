{
  "nbformat": 4,
  "nbformat_minor": 0,
  "metadata": {
    "colab": {
      "name": "21Mar_Practicals.ipynb",
      "provenance": [],
      "authorship_tag": "ABX9TyO8o9MAN3jzhnZmldkPqLMS",
      "include_colab_link": true
    },
    "kernelspec": {
      "name": "python3",
      "display_name": "Python 3"
    },
    "language_info": {
      "name": "python"
    }
  },
  "cells": [
    {
      "cell_type": "markdown",
      "metadata": {
        "id": "view-in-github",
        "colab_type": "text"
      },
      "source": [
        "<a href=\"https://colab.research.google.com/github/mujahed85/APG-PYTHON-14th-Mar-batch/blob/main/01.21Mar_Practicals.ipynb\" target=\"_parent\"><img src=\"https://colab.research.google.com/assets/colab-badge.svg\" alt=\"Open In Colab\"/></a>"
      ]
    },
    {
      "cell_type": "code",
      "metadata": {
        "colab": {
          "base_uri": "https://localhost:8080/"
        },
        "id": "Dcf2v9M-Dzwb",
        "outputId": "ae891f45-ad0a-488e-f00d-88ea52082be6"
      },
      "source": [
        "print(\"Welcome to Colab with Github\")"
      ],
      "execution_count": 1,
      "outputs": [
        {
          "output_type": "stream",
          "text": [
            "Welcome to Colab with Github\n"
          ],
          "name": "stdout"
        }
      ]
    },
    {
      "cell_type": "code",
      "metadata": {
        "colab": {
          "base_uri": "https://localhost:8080/"
        },
        "id": "6ybVszd2Ex9H",
        "outputId": "ce40ac1e-d130-42bb-b1f1-298b8e12af4d"
      },
      "source": [
        "a,b,c=1,2,3\n",
        "print(a,b,c)"
      ],
      "execution_count": 2,
      "outputs": [
        {
          "output_type": "stream",
          "text": [
            "1 2 3\n"
          ],
          "name": "stdout"
        }
      ]
    },
    {
      "cell_type": "code",
      "metadata": {
        "id": "MtXTKQmbE8ka"
      },
      "source": [
        ""
      ],
      "execution_count": null,
      "outputs": []
    }
  ]
}